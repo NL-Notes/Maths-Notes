{
 "cells": [
  {
   "cell_type": "markdown",
   "metadata": {},
   "source": [
    "# Index Laws\n",
    "### Index Law 1:\n",
    "$$a^m * a^n = a^{m+n}$$\n",
    "### Index Law 2:\n",
    "$$\\frac {a^m} {a^n} = a^{m-n}$$\n",
    "### Index Law 3:\n",
    "$$(a^m)^n = a^{mn}$$\n",
    "### Zero Power:\n",
    "$$a^0 = 1$$ <center>where</center> $$a \\ne 0$$\n",
    "### Index Law 4:\n",
    "$$(ab)^m = a^mb^m$$\n",
    "### Index Law 5:\n",
    "$$\\bigg( \\frac{a}{b}\\bigg) ^ m = \\frac{a^m}{b^m}$$<center>where</center> $$b \\ne 0$$\n",
    "\n",
    "# Checklist\n",
    "\n",
    " - [x] Write expressions using only positive indices\n",
    " $a^{-b} = \\frac{1}{a^b}$\n",
    " - [x] Write numbers in scientific notation with significant figures\n",
    "$3.21 * 10^4$ has 3 sig figs\n",
    "$6.782 * 10^4$ has 4 sig figs"
   ]
  }
 ],
 "metadata": {
  "kernelspec": {
   "display_name": "Python 3",
   "language": "python",
   "name": "python3"
  },
  "language_info": {
   "codemirror_mode": {
    "name": "ipython",
    "version": 3
   },
   "file_extension": ".py",
   "mimetype": "text/x-python",
   "name": "python",
   "nbconvert_exporter": "python",
   "pygments_lexer": "ipython3",
   "version": "3.8.3"
  }
 },
 "nbformat": 4,
 "nbformat_minor": 4
}
